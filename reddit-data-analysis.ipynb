{
 "cells": [
  {
   "cell_type": "markdown",
   "metadata": {},
   "source": [
    "# WORK IN PROGRESS"
   ]
  },
  {
   "cell_type": "markdown",
   "metadata": {},
   "source": [
    "# Context\n",
    "\n",
    "---\n",
    "\n",
    "Ran a script on AWS to scrape the top posts on Reddit's front page every hour from September to December 2018.\n",
    "\n",
    "Here's a description of the columns in the dataset:\n",
    "\n",
    "* extract_time -- The time the post's details were extracted\n",
    "* headline -- The title of the post\n",
    "* timestamp -- The time the post was submitted\n",
    "* hyperlink -- The link the post leads to\n",
    "* comments -- The number of comments the post had at the time of extraction\n",
    "* submitter -- The user who submitted the post\n",
    "* subreddit -- The subreddit the post was submitted to"
   ]
  },
  {
   "cell_type": "markdown",
   "metadata": {},
   "source": [
    "## Setup\n",
    "---"
   ]
  },
  {
   "cell_type": "code",
   "execution_count": 1,
   "metadata": {},
   "outputs": [],
   "source": [
    "# import libraries\n",
    "import pandas as pd\n",
    "import numpy as np\n",
    "import matplotlib.pyplot as plt\n",
    "import seaborn as sns\n",
    "import plotly\n",
    "import plotly.graph_objs as go\n",
    "import uuid\n",
    "import wordcloud\n",
    "from IPython.display import clear_output"
   ]
  },
  {
   "cell_type": "code",
   "execution_count": 2,
   "metadata": {},
   "outputs": [
    {
     "data": {
      "text/html": [
       "<script type=\"text/javascript\">window.PlotlyConfig = {MathJaxConfig: 'local'};</script><script type=\"text/javascript\">if (window.MathJax) {MathJax.Hub.Config({SVG: {font: \"STIX-Web\"}});}</script><script>requirejs.config({paths: { 'plotly': ['https://cdn.plot.ly/plotly-latest.min']},});if(!window._Plotly) {require(['plotly'],function(plotly) {window._Plotly=plotly;});}</script>"
      ],
      "text/vnd.plotly.v1+html": [
       "<script type=\"text/javascript\">window.PlotlyConfig = {MathJaxConfig: 'local'};</script><script type=\"text/javascript\">if (window.MathJax) {MathJax.Hub.Config({SVG: {font: \"STIX-Web\"}});}</script><script>requirejs.config({paths: { 'plotly': ['https://cdn.plot.ly/plotly-latest.min']},});if(!window._Plotly) {require(['plotly'],function(plotly) {window._Plotly=plotly;});}</script>"
      ]
     },
     "metadata": {},
     "output_type": "display_data"
    }
   ],
   "source": [
    "# initiate plotly notebook mode\n",
    "plotly.offline.init_notebook_mode(connected=True)"
   ]
  },
  {
   "cell_type": "code",
   "execution_count": 3,
   "metadata": {},
   "outputs": [],
   "source": [
    "# configure matplotlib inline\n",
    "%matplotlib inline\n",
    "plt.rcParams[\"figure.figsize\"] = 15,10"
   ]
  },
  {
   "cell_type": "code",
   "execution_count": 4,
   "metadata": {},
   "outputs": [],
   "source": [
    "# import raw data\n",
    "data = pd.read_csv(\"reddit_extract.csv\")"
   ]
  },
  {
   "cell_type": "code",
   "execution_count": 5,
   "metadata": {},
   "outputs": [],
   "source": [
    "# import prepared data\n",
    "ordered = pd.read_csv(\"prepared_reddit_data.csv\")"
   ]
  },
  {
   "cell_type": "markdown",
   "metadata": {},
   "source": [
    "## Preparation for Analysis\n",
    "---"
   ]
  },
  {
   "cell_type": "code",
   "execution_count": 6,
   "metadata": {},
   "outputs": [
    {
     "data": {
      "text/html": [
       "<div>\n",
       "<style scoped>\n",
       "    .dataframe tbody tr th:only-of-type {\n",
       "        vertical-align: middle;\n",
       "    }\n",
       "\n",
       "    .dataframe tbody tr th {\n",
       "        vertical-align: top;\n",
       "    }\n",
       "\n",
       "    .dataframe thead th {\n",
       "        text-align: right;\n",
       "    }\n",
       "</style>\n",
       "<table border=\"1\" class=\"dataframe\">\n",
       "  <thead>\n",
       "    <tr style=\"text-align: right;\">\n",
       "      <th></th>\n",
       "      <th>extract_time</th>\n",
       "      <th>headline</th>\n",
       "      <th>timestamp</th>\n",
       "      <th>hyperlink</th>\n",
       "      <th>comments</th>\n",
       "      <th>submitter</th>\n",
       "      <th>subreddit</th>\n",
       "    </tr>\n",
       "  </thead>\n",
       "  <tbody>\n",
       "    <tr>\n",
       "      <th>0</th>\n",
       "      <td>2018-08-28 17:36:53.416007</td>\n",
       "      <td>IRS will allow employers to match their employ...</td>\n",
       "      <td>Tue Aug 28 13:49:52 2018 UTC</td>\n",
       "      <td>/r/personalfinance/comments/9az2w9/irs_will_al...</td>\n",
       "      <td>787 comments</td>\n",
       "      <td>broken_symmetry_</td>\n",
       "      <td>r/personalfinance</td>\n",
       "    </tr>\n",
       "    <tr>\n",
       "      <th>1</th>\n",
       "      <td>2018-08-28 17:36:53.416637</td>\n",
       "      <td>I Reached The Peak Of My Coolness In 1991</td>\n",
       "      <td>Tue Aug 28 12:50:49 2018 UTC</td>\n",
       "      <td>https://i.imgur.com/wFpbAsC.jpg</td>\n",
       "      <td>786 comments</td>\n",
       "      <td>TopS3cr3t</td>\n",
       "      <td>r/OldSchoolCool</td>\n",
       "    </tr>\n",
       "    <tr>\n",
       "      <th>2</th>\n",
       "      <td>2018-08-28 17:36:53.417336</td>\n",
       "      <td>MRW Creditors try to get a hold of me</td>\n",
       "      <td>Tue Aug 28 12:30:25 2018 UTC</td>\n",
       "      <td>https://i.imgur.com/0JGqbY2.gifv</td>\n",
       "      <td>257 comments</td>\n",
       "      <td>IronProdigyOfficial</td>\n",
       "      <td>r/reactiongifs</td>\n",
       "    </tr>\n",
       "    <tr>\n",
       "      <th>3</th>\n",
       "      <td>2018-08-28 17:36:53.417946</td>\n",
       "      <td>\"I would give him 10 stars, but since I can't,...</td>\n",
       "      <td>Tue Aug 28 13:57:14 2018 UTC</td>\n",
       "      <td>/r/mildlyinfuriating/comments/9az4w6/i_would_g...</td>\n",
       "      <td>188 comments</td>\n",
       "      <td>DrunkThrowsMcBrady</td>\n",
       "      <td>r/mildlyinfuriating</td>\n",
       "    </tr>\n",
       "    <tr>\n",
       "      <th>4</th>\n",
       "      <td>2018-08-28 17:36:53.418601</td>\n",
       "      <td>It works right?</td>\n",
       "      <td>Tue Aug 28 13:09:32 2018 UTC</td>\n",
       "      <td>/r/gaming/comments/9ayrto/it_works_right/</td>\n",
       "      <td>341 comments</td>\n",
       "      <td>radud3</td>\n",
       "      <td>r/gaming</td>\n",
       "    </tr>\n",
       "  </tbody>\n",
       "</table>\n",
       "</div>"
      ],
      "text/plain": [
       "                 extract_time  \\\n",
       "0  2018-08-28 17:36:53.416007   \n",
       "1  2018-08-28 17:36:53.416637   \n",
       "2  2018-08-28 17:36:53.417336   \n",
       "3  2018-08-28 17:36:53.417946   \n",
       "4  2018-08-28 17:36:53.418601   \n",
       "\n",
       "                                            headline  \\\n",
       "0  IRS will allow employers to match their employ...   \n",
       "1          I Reached The Peak Of My Coolness In 1991   \n",
       "2              MRW Creditors try to get a hold of me   \n",
       "3  \"I would give him 10 stars, but since I can't,...   \n",
       "4                                    It works right?   \n",
       "\n",
       "                      timestamp  \\\n",
       "0  Tue Aug 28 13:49:52 2018 UTC   \n",
       "1  Tue Aug 28 12:50:49 2018 UTC   \n",
       "2  Tue Aug 28 12:30:25 2018 UTC   \n",
       "3  Tue Aug 28 13:57:14 2018 UTC   \n",
       "4  Tue Aug 28 13:09:32 2018 UTC   \n",
       "\n",
       "                                           hyperlink      comments  \\\n",
       "0  /r/personalfinance/comments/9az2w9/irs_will_al...  787 comments   \n",
       "1                    https://i.imgur.com/wFpbAsC.jpg  786 comments   \n",
       "2                   https://i.imgur.com/0JGqbY2.gifv  257 comments   \n",
       "3  /r/mildlyinfuriating/comments/9az4w6/i_would_g...  188 comments   \n",
       "4          /r/gaming/comments/9ayrto/it_works_right/  341 comments   \n",
       "\n",
       "             submitter            subreddit  \n",
       "0     broken_symmetry_    r/personalfinance  \n",
       "1            TopS3cr3t      r/OldSchoolCool  \n",
       "2  IronProdigyOfficial       r/reactiongifs  \n",
       "3   DrunkThrowsMcBrady  r/mildlyinfuriating  \n",
       "4               radud3             r/gaming  "
      ]
     },
     "execution_count": 6,
     "metadata": {},
     "output_type": "execute_result"
    }
   ],
   "source": [
    "# head\n",
    "data.head(5)"
   ]
  },
  {
   "cell_type": "code",
   "execution_count": 7,
   "metadata": {},
   "outputs": [],
   "source": [
    "# turn extract_time and timestamp into datetime\n",
    "data.extract_time = pd.to_datetime(data.extract_time)\n",
    "data.timestamp = pd.to_datetime(data.timestamp)"
   ]
  },
  {
   "cell_type": "code",
   "execution_count": 8,
   "metadata": {},
   "outputs": [
    {
     "name": "stdout",
     "output_type": "stream",
     "text": [
      "The script ran 2976 times.\n"
     ]
    }
   ],
   "source": [
    "# check how many times the script ran\n",
    "script_duration = data.extract_time.max() - data.extract_time.min()\n",
    "print(f\"The script ran {round(script_duration.total_seconds() / 3600)} times.\")"
   ]
  },
  {
   "cell_type": "code",
   "execution_count": 9,
   "metadata": {},
   "outputs": [
    {
     "name": "stdout",
     "output_type": "stream",
     "text": [
      "There are 21557 unique posts in the dataset\n"
     ]
    }
   ],
   "source": [
    "# check how many unique posts we have\n",
    "unique_posts = data.drop_duplicates([\"headline\", \"timestamp\", \"hyperlink\", \"submitter\", \"subreddit\"])\n",
    "print(f\"There are {len(unique_posts)} unique posts in the dataset\")"
   ]
  },
  {
   "cell_type": "code",
   "execution_count": 10,
   "metadata": {},
   "outputs": [
    {
     "name": "stdout",
     "output_type": "stream",
     "text": [
      "There are 15961 unique users in the dataset\n",
      "There are 675 unique subreddits in the dataset\n"
     ]
    }
   ],
   "source": [
    "# check how many unique subreddits and users made it on to the list\n",
    "print(f\"There are {len(data.submitter.unique())} unique users in the dataset\")\n",
    "print(f\"There are {len(data.subreddit.unique())} unique subreddits in the dataset\")"
   ]
  },
  {
   "cell_type": "code",
   "execution_count": 11,
   "metadata": {},
   "outputs": [
    {
     "name": "stdout",
     "output_type": "stream",
     "text": [
      "Number of unique extraction times after normalization: 2976\n"
     ]
    }
   ],
   "source": [
    "# assign batch numbers based on extraction times. We can't use the unique extraction times \n",
    "# (minus the microseconds) as is since during some iterations the extraction of some of the \n",
    "# posts went beyond a second. So we need to normalize the extraction times first by rounding them up\n",
    "\n",
    "def extract_time_normalizer(value):\n",
    "    # return a rounded up hour\n",
    "    return value.replace(minute=0, second=0, microsecond=0) + pd.Timedelta(hours=1)\n",
    "    \n",
    "data = data.assign(batch_time = data.extract_time.apply(extract_time_normalizer))\n",
    "\n",
    "# this should now match the number of times the script ran which is 2976\n",
    "print(f\"Number of unique extraction times after normalization: {len(data.batch_time.unique())}\")"
   ]
  },
  {
   "cell_type": "code",
   "execution_count": 12,
   "metadata": {},
   "outputs": [
    {
     "name": "stdout",
     "output_type": "stream",
     "text": [
      "2975\n"
     ]
    }
   ],
   "source": [
    "# now order the posts of each batch based on their extraction times\n",
    "\n",
    "# to store the data with the ordering\n",
    "ordered = pd.DataFrame()\n",
    "\n",
    "for pos, batch in enumerate(data.batch_time.unique()):\n",
    "    # extract batch and sort\n",
    "    relevant = data[data.batch_time == batch].sort_values(by=\"extract_time\")\n",
    "    # assign order\n",
    "    relevant = relevant.assign(order = range(len(relevant)))\n",
    "    # append to the ordered store\n",
    "    ordered = ordered.append(relevant)\n",
    "    # track progress\n",
    "    clear_output()\n",
    "    print(pos)"
   ]
  },
  {
   "cell_type": "code",
   "execution_count": 13,
   "metadata": {},
   "outputs": [],
   "source": [
    "# assign an id to each of the unique posts and attach this to the dataset\n",
    "unique_posts = unique_posts.assign(post_id = [uuid.uuid4().hex for i in range(len(unique_posts))])\n",
    "unique_posts = unique_posts.drop(columns=[\"extract_time\", \"comments\"])\n",
    "ordered = ordered.merge(unique_posts, on=[\"headline\", \"timestamp\", \"hyperlink\", \"submitter\", \"subreddit\"])"
   ]
  },
  {
   "cell_type": "code",
   "execution_count": 14,
   "metadata": {},
   "outputs": [],
   "source": [
    "# backup the prepared data\n",
    "ordered.to_csv(\"prepared_reddit_data.csv\", index=False, encoding=\"utf-8\")"
   ]
  },
  {
   "cell_type": "markdown",
   "metadata": {},
   "source": [
    "## Analysis and Visualization\n",
    "---"
   ]
  },
  {
   "cell_type": "markdown",
   "metadata": {},
   "source": [
    "### Wordcloud of Headlines"
   ]
  },
  {
   "cell_type": "code",
   "execution_count": 15,
   "metadata": {},
   "outputs": [
    {
     "data": {
      "image/png": "[encoded data removed]",
      "text/plain": [
       "<Figure size 1080x720 with 1 Axes>"
      ]
     },
     "metadata": {
      "needs_background": "light"
     },
     "output_type": "display_data"
    }
   ],
   "source": [
    "# take all of the headlines of the unique posts and turn them into a wordcloud\n",
    "reddit_cloud = wordcloud.WordCloud(width=1200, height=800, prefer_horizontal=0.9, max_words=200,\n",
    "                                   min_font_size=4, collocations=False, colormap=\"viridis\",\n",
    "                                   background_color=\"black\")\n",
    "\n",
    "reddit_cloud.generate_from_text(\" \".join(ordered.drop_duplicates(\"post_id\").headline.tolist()))\n",
    "\n",
    "plt.imshow(reddit_cloud)\n",
    "plt.axis(\"off\")\n",
    "plt.show()"
   ]
  },
  {
   "cell_type": "markdown",
   "metadata": {},
   "source": [
    "### Top 10 Subreddits with the Most Posts (Unique) on the Front Page"
   ]
  },
  {
   "cell_type": "code",
   "execution_count": 18,
   "metadata": {},
   "outputs": [
    {
     "data": {
      "application/vnd.plotly.v1+json": {
       "config": {
        "linkText": "Export to plot.ly",
        "plotlyServerURL": "https://plot.ly",
        "showLink": false
       },
       "data": [
        {
         "marker": {
          "color": [
           1267,
           957,
           806,
           740,
           602,
           568,
           553,
           456,
           424,
           421
          ],
          "colorscale": "Portland"
         },
         "name": "Overall",
         "type": "bar",
         "uid": "e1c8ba66-f865-4152-9564-1df89a866dcb",
         "x": [
          "r/funny",
          "r/aww",
          "r/pics",
          "r/gaming",
          "r/politics",
          "r/gifs",
          "r/todayilearned",
          "r/AskReddit",
          "r/BlackPeopleTwitter",
          "r/worldnews"
         ],
         "y": [
          1267,
          957,
          806,
          740,
          602,
          568,
          553,
          456,
          424,
          421
         ]
        },
        {
         "marker": {
          "color": [
           191,
           131,
           127,
           104,
           93,
           93,
           82,
           72,
           71,
           60
          ],
          "colorscale": "Portland"
         },
         "name": "Position 1",
         "type": "bar",
         "uid": "399ef2d7-7843-48d3-a79d-7968f66e4dad",
         "x": [
          "r/AskReddit",
          "r/funny",
          "r/pics",
          "r/aww",
          "r/legaladvice",
          "r/politics",
          "r/gaming",
          "r/todayilearned",
          "r/gifs",
          "r/news"
         ],
         "y": [
          191,
          131,
          127,
          104,
          93,
          93,
          82,
          72,
          71,
          60
         ]
        },
        {
         "marker": {
          "color": [
           216,
           146,
           119,
           116,
           101,
           91,
           87,
           77,
           74,
           74
          ],
          "colorscale": "Portland"
         },
         "name": "Position 2",
         "type": "bar",
         "uid": "652aafb1-61ad-4efd-88fa-441d5d45f884",
         "x": [
          "r/AskReddit",
          "r/funny",
          "r/pics",
          "r/aww",
          "r/politics",
          "r/gaming",
          "r/legaladvice",
          "r/todayilearned",
          "r/news",
          "r/gifs"
         ],
         "y": [
          216,
          146,
          119,
          116,
          101,
          91,
          87,
          77,
          74,
          74
         ]
        },
        {
         "marker": {
          "color": [
           183,
           135,
           133,
           112,
           112,
           85,
           85,
           82,
           73,
           73
          ],
          "colorscale": "Portland"
         },
         "name": "Position 3",
         "type": "bar",
         "uid": "657f94d6-d59b-4302-b482-71b351952c63",
         "x": [
          "r/AskReddit",
          "r/funny",
          "r/pics",
          "r/aww",
          "r/politics",
          "r/todayilearned",
          "r/gaming",
          "r/news",
          "r/gifs",
          "r/legaladvice"
         ],
         "y": [
          183,
          135,
          133,
          112,
          112,
          85,
          85,
          82,
          73,
          73
         ]
        },
        {
         "marker": {
          "color": [
           133,
           122,
           121,
           111,
           102,
           100,
           94,
           85,
           84,
           78
          ],
          "colorscale": "Portland"
         },
         "name": "Position 4",
         "type": "bar",
         "uid": "18791511-5471-44ee-8b2c-e996499858b0",
         "x": [
          "r/AskReddit",
          "r/funny",
          "r/aww",
          "r/pics",
          "r/news",
          "r/politics",
          "r/gaming",
          "r/gifs",
          "r/todayilearned",
          "r/worldnews"
         ],
         "y": [
          133,
          122,
          121,
          111,
          102,
          100,
          94,
          85,
          84,
          78
         ]
        },
        {
         "marker": {
          "color": [
           127,
           127,
           111,
           101,
           99,
           92,
           84,
           82,
           81,
           76
          ],
          "colorscale": "Portland"
         },
         "name": "Position 5",
         "type": "bar",
         "uid": "268b7ceb-0575-4638-9fe5-0f4c70a172c1",
         "x": [
          "r/funny",
          "r/pics",
          "r/aww",
          "r/AskReddit",
          "r/politics",
          "r/news",
          "r/gifs",
          "r/todayilearned",
          "r/worldnews",
          "r/gaming"
         ],
         "y": [
          127,
          127,
          111,
          101,
          99,
          92,
          84,
          82,
          81,
          76
         ]
        }
       ],
       "layout": {
        "showlegend": false,
        "updatemenus": [
         {
          "active": 0,
          "buttons": [
           {
            "args": [
             {
              "visible": [
               true,
               false,
               false,
               false,
               false,
               false
              ]
             },
             {
              "title": "Subreddits with Most Posts on Front Page"
             }
            ],
            "label": "Overall",
            "method": "update"
           },
           {
            "args": [
             {
              "visible": [
               false,
               true,
               false,
               false,
               false,
               false
              ]
             },
             {
              "title": "Subreddits with Most Posts in Position 1"
             }
            ],
            "label": "Position 1",
            "method": "update"
           },
           {
            "args": [
             {
              "visible": [
               false,
               false,
               true,
               false,
               false,
               false
              ]
             },
             {
              "title": "Subreddits with Most Posts in Position 2"
             }
            ],
            "label": "Position 2",
            "method": "update"
           },
           {
            "args": [
             {
              "visible": [
               false,
               false,
               false,
               true,
               false,
               false
              ]
             },
             {
              "title": "Subreddits with Most Posts in Position 3"
             }
            ],
            "label": "Position 3",
            "method": "update"
           },
           {
            "args": [
             {
              "visible": [
               false,
               false,
               false,
               false,
               true,
               false
              ]
             },
             {
              "title": "Subreddits with Most Posts in Position 4"
             }
            ],
            "label": "Position 4",
            "method": "update"
           },
           {
            "args": [
             {
              "visible": [
               false,
               false,
               false,
               false,
               false,
               true
              ]
             },
             {
              "title": "Subreddits with Most Posts in Position 5"
             }
            ],
            "label": "Position 5",
            "method": "update"
           }
          ]
         }
        ],
        "xaxis": {
         "title": {
          "text": "Subreddits"
         }
        },
        "yaxis": {
         "title": {
          "text": "No. of Unique Posts"
         }
        }
       }
      },
      "text/html": [
       "<div id=\"f208e8fc-6602-4e98-9441-24604ced0317\" style=\"height: 525px; width: 100%;\" class=\"plotly-graph-div\"></div><script type=\"text/javascript\">require([\"plotly\"], function(Plotly) { window.PLOTLYENV=window.PLOTLYENV || {};window.PLOTLYENV.BASE_URL=\"https://plot.ly\";\n",
       "if (document.getElementById(\"f208e8fc-6602-4e98-9441-24604ced0317\")) {\n",
       "    Plotly.newPlot(\"f208e8fc-6602-4e98-9441-24604ced0317\", [{\"marker\": {\"color\": [1267, 957, 806, 740, 602, 568, 553, 456, 424, 421], \"colorscale\": \"Portland\"}, \"name\": \"Overall\", \"x\": [\"r/funny\", \"r/aww\", \"r/pics\", \"r/gaming\", \"r/politics\", \"r/gifs\", \"r/todayilearned\", \"r/AskReddit\", \"r/BlackPeopleTwitter\", \"r/worldnews\"], \"y\": [1267, 957, 806, 740, 602, 568, 553, 456, 424, 421], \"type\": \"bar\", \"uid\": \"e1c8ba66-f865-4152-9564-1df89a866dcb\"}, {\"marker\": {\"color\": [191, 131, 127, 104, 93, 93, 82, 72, 71, 60], \"colorscale\": \"Portland\"}, \"name\": \"Position 1\", \"x\": [\"r/AskReddit\", \"r/funny\", \"r/pics\", \"r/aww\", \"r/legaladvice\", \"r/politics\", \"r/gaming\", \"r/todayilearned\", \"r/gifs\", \"r/news\"], \"y\": [191, 131, 127, 104, 93, 93, 82, 72, 71, 60], \"type\": \"bar\", \"uid\": \"399ef2d7-7843-48d3-a79d-7968f66e4dad\"}, {\"marker\": {\"color\": [216, 146, 119, 116, 101, 91, 87, 77, 74, 74], \"colorscale\": \"Portland\"}, \"name\": \"Position 2\", \"x\": [\"r/AskReddit\", \"r/funny\", \"r/pics\", \"r/aww\", \"r/politics\", \"r/gaming\", \"r/legaladvice\", \"r/todayilearned\", \"r/news\", \"r/gifs\"], \"y\": [216, 146, 119, 116, 101, 91, 87, 77, 74, 74], \"type\": \"bar\", \"uid\": \"652aafb1-61ad-4efd-88fa-441d5d45f884\"}, {\"marker\": {\"color\": [183, 135, 133, 112, 112, 85, 85, 82, 73, 73], \"colorscale\": \"Portland\"}, \"name\": \"Position 3\", \"x\": [\"r/AskReddit\", \"r/funny\", \"r/pics\", \"r/aww\", \"r/politics\", \"r/todayilearned\", \"r/gaming\", \"r/news\", \"r/gifs\", \"r/legaladvice\"], \"y\": [183, 135, 133, 112, 112, 85, 85, 82, 73, 73], \"type\": \"bar\", \"uid\": \"657f94d6-d59b-4302-b482-71b351952c63\"}, {\"marker\": {\"color\": [133, 122, 121, 111, 102, 100, 94, 85, 84, 78], \"colorscale\": \"Portland\"}, \"name\": \"Position 4\", \"x\": [\"r/AskReddit\", \"r/funny\", \"r/aww\", \"r/pics\", \"r/news\", \"r/politics\", \"r/gaming\", \"r/gifs\", \"r/todayilearned\", \"r/worldnews\"], \"y\": [133, 122, 121, 111, 102, 100, 94, 85, 84, 78], \"type\": \"bar\", \"uid\": \"18791511-5471-44ee-8b2c-e996499858b0\"}, {\"marker\": {\"color\": [127, 127, 111, 101, 99, 92, 84, 82, 81, 76], \"colorscale\": \"Portland\"}, \"name\": \"Position 5\", \"x\": [\"r/funny\", \"r/pics\", \"r/aww\", \"r/AskReddit\", \"r/politics\", \"r/news\", \"r/gifs\", \"r/todayilearned\", \"r/worldnews\", \"r/gaming\"], \"y\": [127, 127, 111, 101, 99, 92, 84, 82, 81, 76], \"type\": \"bar\", \"uid\": \"268b7ceb-0575-4638-9fe5-0f4c70a172c1\"}], {\"showlegend\": false, \"updatemenus\": [{\"active\": 0, \"buttons\": [{\"args\": [{\"visible\": [true, false, false, false, false, false]}, {\"title\": \"Subreddits with Most Posts on Front Page\"}], \"label\": \"Overall\", \"method\": \"update\"}, {\"args\": [{\"visible\": [false, true, false, false, false, false]}, {\"title\": \"Subreddits with Most Posts in Position 1\"}], \"label\": \"Position 1\", \"method\": \"update\"}, {\"args\": [{\"visible\": [false, false, true, false, false, false]}, {\"title\": \"Subreddits with Most Posts in Position 2\"}], \"label\": \"Position 2\", \"method\": \"update\"}, {\"args\": [{\"visible\": [false, false, false, true, false, false]}, {\"title\": \"Subreddits with Most Posts in Position 3\"}], \"label\": \"Position 3\", \"method\": \"update\"}, {\"args\": [{\"visible\": [false, false, false, false, true, false]}, {\"title\": \"Subreddits with Most Posts in Position 4\"}], \"label\": \"Position 4\", \"method\": \"update\"}, {\"args\": [{\"visible\": [false, false, false, false, false, true]}, {\"title\": \"Subreddits with Most Posts in Position 5\"}], \"label\": \"Position 5\", \"method\": \"update\"}]}], \"xaxis\": {\"title\": {\"text\": \"Subreddits\"}}, \"yaxis\": {\"title\": {\"text\": \"No. of Unique Posts\"}}}, {\"showLink\": false, \"linkText\": \"Export to plot.ly\", \"plotlyServerURL\": \"https://plot.ly\"}); \n",
       "}\n",
       "});</script><script type=\"text/javascript\">window.addEventListener(\"resize\", function(){if (document.getElementById(\"f208e8fc-6602-4e98-9441-24604ced0317\")) {window._Plotly.Plots.resize(document.getElementById(\"f208e8fc-6602-4e98-9441-24604ced0317\"));};})</script>"
      ],
      "text/vnd.plotly.v1+html": [
       "<div id=\"f208e8fc-6602-4e98-9441-24604ced0317\" style=\"height: 525px; width: 100%;\" class=\"plotly-graph-div\"></div><script type=\"text/javascript\">require([\"plotly\"], function(Plotly) { window.PLOTLYENV=window.PLOTLYENV || {};window.PLOTLYENV.BASE_URL=\"https://plot.ly\";\n",
       "if (document.getElementById(\"f208e8fc-6602-4e98-9441-24604ced0317\")) {\n",
       "    Plotly.newPlot(\"f208e8fc-6602-4e98-9441-24604ced0317\", [{\"marker\": {\"color\": [1267, 957, 806, 740, 602, 568, 553, 456, 424, 421], \"colorscale\": \"Portland\"}, \"name\": \"Overall\", \"x\": [\"r/funny\", \"r/aww\", \"r/pics\", \"r/gaming\", \"r/politics\", \"r/gifs\", \"r/todayilearned\", \"r/AskReddit\", \"r/BlackPeopleTwitter\", \"r/worldnews\"], \"y\": [1267, 957, 806, 740, 602, 568, 553, 456, 424, 421], \"type\": \"bar\", \"uid\": \"e1c8ba66-f865-4152-9564-1df89a866dcb\"}, {\"marker\": {\"color\": [191, 131, 127, 104, 93, 93, 82, 72, 71, 60], \"colorscale\": \"Portland\"}, \"name\": \"Position 1\", \"x\": [\"r/AskReddit\", \"r/funny\", \"r/pics\", \"r/aww\", \"r/legaladvice\", \"r/politics\", \"r/gaming\", \"r/todayilearned\", \"r/gifs\", \"r/news\"], \"y\": [191, 131, 127, 104, 93, 93, 82, 72, 71, 60], \"type\": \"bar\", \"uid\": \"399ef2d7-7843-48d3-a79d-7968f66e4dad\"}, {\"marker\": {\"color\": [216, 146, 119, 116, 101, 91, 87, 77, 74, 74], \"colorscale\": \"Portland\"}, \"name\": \"Position 2\", \"x\": [\"r/AskReddit\", \"r/funny\", \"r/pics\", \"r/aww\", \"r/politics\", \"r/gaming\", \"r/legaladvice\", \"r/todayilearned\", \"r/news\", \"r/gifs\"], \"y\": [216, 146, 119, 116, 101, 91, 87, 77, 74, 74], \"type\": \"bar\", \"uid\": \"652aafb1-61ad-4efd-88fa-441d5d45f884\"}, {\"marker\": {\"color\": [183, 135, 133, 112, 112, 85, 85, 82, 73, 73], \"colorscale\": \"Portland\"}, \"name\": \"Position 3\", \"x\": [\"r/AskReddit\", \"r/funny\", \"r/pics\", \"r/aww\", \"r/politics\", \"r/todayilearned\", \"r/gaming\", \"r/news\", \"r/gifs\", \"r/legaladvice\"], \"y\": [183, 135, 133, 112, 112, 85, 85, 82, 73, 73], \"type\": \"bar\", \"uid\": \"657f94d6-d59b-4302-b482-71b351952c63\"}, {\"marker\": {\"color\": [133, 122, 121, 111, 102, 100, 94, 85, 84, 78], \"colorscale\": \"Portland\"}, \"name\": \"Position 4\", \"x\": [\"r/AskReddit\", \"r/funny\", \"r/aww\", \"r/pics\", \"r/news\", \"r/politics\", \"r/gaming\", \"r/gifs\", \"r/todayilearned\", \"r/worldnews\"], \"y\": [133, 122, 121, 111, 102, 100, 94, 85, 84, 78], \"type\": \"bar\", \"uid\": \"18791511-5471-44ee-8b2c-e996499858b0\"}, {\"marker\": {\"color\": [127, 127, 111, 101, 99, 92, 84, 82, 81, 76], \"colorscale\": \"Portland\"}, \"name\": \"Position 5\", \"x\": [\"r/funny\", \"r/pics\", \"r/aww\", \"r/AskReddit\", \"r/politics\", \"r/news\", \"r/gifs\", \"r/todayilearned\", \"r/worldnews\", \"r/gaming\"], \"y\": [127, 127, 111, 101, 99, 92, 84, 82, 81, 76], \"type\": \"bar\", \"uid\": \"268b7ceb-0575-4638-9fe5-0f4c70a172c1\"}], {\"showlegend\": false, \"updatemenus\": [{\"active\": 0, \"buttons\": [{\"args\": [{\"visible\": [true, false, false, false, false, false]}, {\"title\": \"Subreddits with Most Posts on Front Page\"}], \"label\": \"Overall\", \"method\": \"update\"}, {\"args\": [{\"visible\": [false, true, false, false, false, false]}, {\"title\": \"Subreddits with Most Posts in Position 1\"}], \"label\": \"Position 1\", \"method\": \"update\"}, {\"args\": [{\"visible\": [false, false, true, false, false, false]}, {\"title\": \"Subreddits with Most Posts in Position 2\"}], \"label\": \"Position 2\", \"method\": \"update\"}, {\"args\": [{\"visible\": [false, false, false, true, false, false]}, {\"title\": \"Subreddits with Most Posts in Position 3\"}], \"label\": \"Position 3\", \"method\": \"update\"}, {\"args\": [{\"visible\": [false, false, false, false, true, false]}, {\"title\": \"Subreddits with Most Posts in Position 4\"}], \"label\": \"Position 4\", \"method\": \"update\"}, {\"args\": [{\"visible\": [false, false, false, false, false, true]}, {\"title\": \"Subreddits with Most Posts in Position 5\"}], \"label\": \"Position 5\", \"method\": \"update\"}]}], \"xaxis\": {\"title\": {\"text\": \"Subreddits\"}}, \"yaxis\": {\"title\": {\"text\": \"No. of Unique Posts\"}}}, {\"showLink\": false, \"linkText\": \"Export to plot.ly\", \"plotlyServerURL\": \"https://plot.ly\"}); \n",
       "}\n",
       "});</script><script type=\"text/javascript\">window.addEventListener(\"resize\", function(){if (document.getElementById(\"f208e8fc-6602-4e98-9441-24604ced0317\")) {window._Plotly.Plots.resize(document.getElementById(\"f208e8fc-6602-4e98-9441-24604ced0317\"));};})</script>"
      ]
     },
     "metadata": {},
     "output_type": "display_data"
    }
   ],
   "source": [
    "# interactive graph to show top subreddits by unique posts on the entire front page and in certain positions\n",
    "\n",
    "# top 10 subreddits with the most posts (unique) across the entire front page\n",
    "top_overall = ordered.groupby(\"subreddit\")[\"post_id\"].nunique().sort_values(ascending=False).reset_index()\n",
    "\n",
    "data = [go.Bar(\n",
    "    x = top_overall.subreddit[:10].tolist(),\n",
    "    y = top_overall.post_id[:10].tolist(),\n",
    "    name = \"Overall\",\n",
    "    marker = {\n",
    "        \"color\": top_overall.post_id[:10].tolist(),\n",
    "        \"colorscale\": \"Portland\"\n",
    "    }\n",
    ")]\n",
    "           \n",
    "# append a figure for each of the top 5 positions\n",
    "for position in range(0,5):\n",
    "    # filter data\n",
    "    relevant_data = ordered[ordered.order == position].groupby(\n",
    "        \"subreddit\")[\"post_id\"].nunique().sort_values(ascending=False).reset_index()\n",
    "    \n",
    "    # create and figure\n",
    "    data.append(\n",
    "        go.Bar(\n",
    "            x = relevant_data.subreddit[:10].tolist(),\n",
    "            y = relevant_data.post_id[:10].tolist(),\n",
    "            name = f\"Position {position+1}\",\n",
    "            marker = {\n",
    "                \"color\": relevant_data.post_id[:10].tolist(),\n",
    "                \"colorscale\": \"Portland\"\n",
    "            }\n",
    "        )\n",
    "    )\n",
    "    \n",
    "updatemenus = [{\n",
    "    \"active\": 0,\n",
    "    \"buttons\": [{\n",
    "        \"label\": \"Overall\",\n",
    "        \"method\": \"update\",\n",
    "        \"args\" : [{\"visible\": [True, False, False, False, False, False]},\n",
    "                  {\"title\": \"Subreddits with Most Posts on Front Page\"}]\n",
    "    },\n",
    "    {\n",
    "        \"label\": \"Position 1\",\n",
    "        \"method\": \"update\",\n",
    "        \"args\" : [{\"visible\": [False, True, False, False, False, False]},\n",
    "                  {\"title\": \"Subreddits with Most Posts in Position 1\"}]\n",
    "    },\n",
    "    {\n",
    "        \"label\": \"Position 2\",\n",
    "        \"method\": \"update\",\n",
    "        \"args\" : [{\"visible\": [False, False, True, False, False, False]},\n",
    "                  {\"title\": \"Subreddits with Most Posts in Position 2\"}]\n",
    "    },\n",
    "    {\n",
    "        \"label\": \"Position 3\",\n",
    "        \"method\": \"update\",\n",
    "        \"args\" : [{\"visible\": [False, False, False, True, False, False]},\n",
    "                  {\"title\": \"Subreddits with Most Posts in Position 3\"}]\n",
    "    },\n",
    "    {\n",
    "        \"label\": \"Position 4\",\n",
    "        \"method\": \"update\",\n",
    "        \"args\" : [{\"visible\": [False, False, False, False, True, False]},\n",
    "                  {\"title\": \"Subreddits with Most Posts in Position 4\"}]\n",
    "    },\n",
    "    {\n",
    "        \"label\": \"Position 5\",\n",
    "        \"method\": \"update\",\n",
    "        \"args\" : [{\"visible\": [False, False, False, False, False, True]},\n",
    "                  {\"title\": \"Subreddits with Most Posts in Position 5\"}]\n",
    "    }\n",
    "    ]\n",
    "}]\n",
    "\n",
    "layout = go.Layout(\n",
    "    xaxis = {\"title\": \"Subreddits\"},\n",
    "    yaxis = {\"title\": \"No. of Unique Posts\"},\n",
    "    showlegend = False,\n",
    "    updatemenus = updatemenus\n",
    ")\n",
    "\n",
    "figure = go.Figure(data=data, layout=layout)\n",
    "\n",
    "plotly.offline.iplot(figure, filename=\"subreddits-most-posts\")"
   ]
  },
  {
   "cell_type": "markdown",
   "metadata": {},
   "source": [
    "### Top 10 Users with the Most Posts (Unique) on the Front Page"
   ]
  },
  {
   "cell_type": "code",
   "execution_count": 19,
   "metadata": {
    "scrolled": false
   },
   "outputs": [
    {
     "data": {
      "application/vnd.plotly.v1+json": {
       "config": {
        "linkText": "Export to plot.ly",
        "plotlyServerURL": "https://plot.ly",
        "showLink": false
       },
       "data": [
        {
         "marker": {
          "color": [
           150,
           136,
           132,
           97,
           92,
           86,
           79,
           78,
           70,
           47
          ],
          "colorscale": "Portland"
         },
         "name": "Overall",
         "type": "bar",
         "uid": "45b471df-60a5-42cc-be10-df625590b0a9",
         "x": [
          "commonvanilla",
          "EviscerationNation",
          "mvea",
          "ImaginingDragon",
          "Chris_Isur_Dude",
          "GallowBoob",
          "dickfromaccounting",
          "icant-chooseone",
          "etymologynerd",
          "cyan1618"
         ],
         "y": [
          150,
          136,
          132,
          97,
          92,
          86,
          79,
          78,
          70,
          47
         ]
        },
        {
         "marker": {
          "color": [
           17,
           12,
           9,
           9,
           9,
           8,
           7,
           6,
           6,
           5
          ],
          "colorscale": "Portland"
         },
         "name": "Position 1",
         "type": "bar",
         "uid": "dcc86d1c-1ed7-459f-9f54-fa49706ba228",
         "x": [
          "commonvanilla",
          "mvea",
          "GallowBoob",
          "EviscerationNation",
          "dickfromaccounting",
          "sirmakoto",
          "Raqped",
          "etymologynerd",
          "PoliticsModeratorBot",
          "ImaginingDragon"
         ],
         "y": [
          17,
          12,
          9,
          9,
          9,
          8,
          7,
          6,
          6,
          5
         ]
        },
        {
         "marker": {
          "color": [
           12,
           11,
           11,
           9,
           8,
           8,
           7,
           6,
           6,
           6
          ],
          "colorscale": "Portland"
         },
         "name": "Position 2",
         "type": "bar",
         "uid": "ad9a483e-bc0a-4e48-a42f-4fad10ed5de3",
         "x": [
          "commonvanilla",
          "mvea",
          "ImaginingDragon",
          "gangbangkang",
          "dickfromaccounting",
          "Chris_Isur_Dude",
          "TooShiftyForYou",
          "PoliticsModeratorBot",
          "EviscerationNation",
          "imagepoem"
         ],
         "y": [
          12,
          11,
          11,
          9,
          8,
          8,
          7,
          6,
          6,
          6
         ]
        },
        {
         "marker": {
          "color": [
           20,
           14,
           12,
           10,
           9,
           8,
           8,
           8,
           7,
           7
          ],
          "colorscale": "Portland"
         },
         "name": "Position 3",
         "type": "bar",
         "uid": "87f8ce85-29b1-465e-99b8-f19c5478f80b",
         "x": [
          "commonvanilla",
          "mvea",
          "dickfromaccounting",
          "GallowBoob",
          "ImaginingDragon",
          "unknown_human",
          "maxwellhill",
          "EnoughPM2020",
          "etymologynerd",
          "TooShiftyForYou"
         ],
         "y": [
          20,
          14,
          12,
          10,
          9,
          8,
          8,
          8,
          7,
          7
         ]
        },
        {
         "marker": {
          "color": [
           21,
           15,
           14,
           12,
           11,
           11,
           10,
           9,
           8,
           8
          ],
          "colorscale": "Portland"
         },
         "name": "Position 4",
         "type": "bar",
         "uid": "2a5e0554-a012-4b1c-bef2-f56a2841573e",
         "x": [
          "commonvanilla",
          "mvea",
          "Chris_Isur_Dude",
          "TooShiftyForYou",
          "EviscerationNation",
          "sirmakoto",
          "gangbangkang",
          "ImaginingDragon",
          "GallowBoob",
          "imagepoem"
         ],
         "y": [
          21,
          15,
          14,
          12,
          11,
          11,
          10,
          9,
          8,
          8
         ]
        },
        {
         "marker": {
          "color": [
           19,
           17,
           15,
           12,
           10,
           9,
           9,
           9,
           9,
           8
          ],
          "colorscale": "Portland"
         },
         "name": "Position 5",
         "type": "bar",
         "uid": "86260aa7-0f51-403e-aea5-a06a967b6345",
         "x": [
          "commonvanilla",
          "mvea",
          "ImaginingDragon",
          "dickfromaccounting",
          "pp0787",
          "EviscerationNation",
          "sirmakoto",
          "gangbangkang",
          "etymologynerd",
          "icant-chooseone"
         ],
         "y": [
          19,
          17,
          15,
          12,
          10,
          9,
          9,
          9,
          9,
          8
         ]
        }
       ],
       "layout": {
        "showlegend": false,
        "updatemenus": [
         {
          "active": 0,
          "buttons": [
           {
            "args": [
             {
              "visible": [
               true,
               false,
               false,
               false,
               false,
               false
              ]
             },
             {
              "title": "Users with Most Posts on Front Page"
             }
            ],
            "label": "Overall",
            "method": "update"
           },
           {
            "args": [
             {
              "visible": [
               false,
               true,
               false,
               false,
               false,
               false
              ]
             },
             {
              "title": "Users with Most Posts in Position 1"
             }
            ],
            "label": "Position 1",
            "method": "update"
           },
           {
            "args": [
             {
              "visible": [
               false,
               false,
               true,
               false,
               false,
               false
              ]
             },
             {
              "title": "Users with Most Posts in Position 2"
             }
            ],
            "label": "Position 2",
            "method": "update"
           },
           {
            "args": [
             {
              "visible": [
               false,
               false,
               false,
               true,
               false,
               false
              ]
             },
             {
              "title": "Users with Most Posts in Position 3"
             }
            ],
            "label": "Position 3",
            "method": "update"
           },
           {
            "args": [
             {
              "visible": [
               false,
               false,
               false,
               false,
               true,
               false
              ]
             },
             {
              "title": "Users with Most Posts in Position 4"
             }
            ],
            "label": "Position 4",
            "method": "update"
           },
           {
            "args": [
             {
              "visible": [
               false,
               false,
               false,
               false,
               false,
               true
              ]
             },
             {
              "title": "Users with Most Posts in Position 5"
             }
            ],
            "label": "Position 5",
            "method": "update"
           }
          ]
         }
        ],
        "xaxis": {
         "title": {
          "text": "Users"
         }
        },
        "yaxis": {
         "title": {
          "text": "No. of Unique Posts"
         }
        }
       }
      },
      "text/html": [
       "<div id=\"175ce350-f8fe-4954-842f-f1037873b287\" style=\"height: 525px; width: 100%;\" class=\"plotly-graph-div\"></div><script type=\"text/javascript\">require([\"plotly\"], function(Plotly) { window.PLOTLYENV=window.PLOTLYENV || {};window.PLOTLYENV.BASE_URL=\"https://plot.ly\";\n",
       "if (document.getElementById(\"175ce350-f8fe-4954-842f-f1037873b287\")) {\n",
       "    Plotly.newPlot(\"175ce350-f8fe-4954-842f-f1037873b287\", [{\"marker\": {\"color\": [150, 136, 132, 97, 92, 86, 79, 78, 70, 47], \"colorscale\": \"Portland\"}, \"name\": \"Overall\", \"x\": [\"commonvanilla\", \"EviscerationNation\", \"mvea\", \"ImaginingDragon\", \"Chris_Isur_Dude\", \"GallowBoob\", \"dickfromaccounting\", \"icant-chooseone\", \"etymologynerd\", \"cyan1618\"], \"y\": [150, 136, 132, 97, 92, 86, 79, 78, 70, 47], \"type\": \"bar\", \"uid\": \"45b471df-60a5-42cc-be10-df625590b0a9\"}, {\"marker\": {\"color\": [17, 12, 9, 9, 9, 8, 7, 6, 6, 5], \"colorscale\": \"Portland\"}, \"name\": \"Position 1\", \"x\": [\"commonvanilla\", \"mvea\", \"GallowBoob\", \"EviscerationNation\", \"dickfromaccounting\", \"sirmakoto\", \"Raqped\", \"etymologynerd\", \"PoliticsModeratorBot\", \"ImaginingDragon\"], \"y\": [17, 12, 9, 9, 9, 8, 7, 6, 6, 5], \"type\": \"bar\", \"uid\": \"dcc86d1c-1ed7-459f-9f54-fa49706ba228\"}, {\"marker\": {\"color\": [12, 11, 11, 9, 8, 8, 7, 6, 6, 6], \"colorscale\": \"Portland\"}, \"name\": \"Position 2\", \"x\": [\"commonvanilla\", \"mvea\", \"ImaginingDragon\", \"gangbangkang\", \"dickfromaccounting\", \"Chris_Isur_Dude\", \"TooShiftyForYou\", \"PoliticsModeratorBot\", \"EviscerationNation\", \"imagepoem\"], \"y\": [12, 11, 11, 9, 8, 8, 7, 6, 6, 6], \"type\": \"bar\", \"uid\": \"ad9a483e-bc0a-4e48-a42f-4fad10ed5de3\"}, {\"marker\": {\"color\": [20, 14, 12, 10, 9, 8, 8, 8, 7, 7], \"colorscale\": \"Portland\"}, \"name\": \"Position 3\", \"x\": [\"commonvanilla\", \"mvea\", \"dickfromaccounting\", \"GallowBoob\", \"ImaginingDragon\", \"unknown_human\", \"maxwellhill\", \"EnoughPM2020\", \"etymologynerd\", \"TooShiftyForYou\"], \"y\": [20, 14, 12, 10, 9, 8, 8, 8, 7, 7], \"type\": \"bar\", \"uid\": \"87f8ce85-29b1-465e-99b8-f19c5478f80b\"}, {\"marker\": {\"color\": [21, 15, 14, 12, 11, 11, 10, 9, 8, 8], \"colorscale\": \"Portland\"}, \"name\": \"Position 4\", \"x\": [\"commonvanilla\", \"mvea\", \"Chris_Isur_Dude\", \"TooShiftyForYou\", \"EviscerationNation\", \"sirmakoto\", \"gangbangkang\", \"ImaginingDragon\", \"GallowBoob\", \"imagepoem\"], \"y\": [21, 15, 14, 12, 11, 11, 10, 9, 8, 8], \"type\": \"bar\", \"uid\": \"2a5e0554-a012-4b1c-bef2-f56a2841573e\"}, {\"marker\": {\"color\": [19, 17, 15, 12, 10, 9, 9, 9, 9, 8], \"colorscale\": \"Portland\"}, \"name\": \"Position 5\", \"x\": [\"commonvanilla\", \"mvea\", \"ImaginingDragon\", \"dickfromaccounting\", \"pp0787\", \"EviscerationNation\", \"sirmakoto\", \"gangbangkang\", \"etymologynerd\", \"icant-chooseone\"], \"y\": [19, 17, 15, 12, 10, 9, 9, 9, 9, 8], \"type\": \"bar\", \"uid\": \"86260aa7-0f51-403e-aea5-a06a967b6345\"}], {\"showlegend\": false, \"updatemenus\": [{\"active\": 0, \"buttons\": [{\"args\": [{\"visible\": [true, false, false, false, false, false]}, {\"title\": \"Users with Most Posts on Front Page\"}], \"label\": \"Overall\", \"method\": \"update\"}, {\"args\": [{\"visible\": [false, true, false, false, false, false]}, {\"title\": \"Users with Most Posts in Position 1\"}], \"label\": \"Position 1\", \"method\": \"update\"}, {\"args\": [{\"visible\": [false, false, true, false, false, false]}, {\"title\": \"Users with Most Posts in Position 2\"}], \"label\": \"Position 2\", \"method\": \"update\"}, {\"args\": [{\"visible\": [false, false, false, true, false, false]}, {\"title\": \"Users with Most Posts in Position 3\"}], \"label\": \"Position 3\", \"method\": \"update\"}, {\"args\": [{\"visible\": [false, false, false, false, true, false]}, {\"title\": \"Users with Most Posts in Position 4\"}], \"label\": \"Position 4\", \"method\": \"update\"}, {\"args\": [{\"visible\": [false, false, false, false, false, true]}, {\"title\": \"Users with Most Posts in Position 5\"}], \"label\": \"Position 5\", \"method\": \"update\"}]}], \"xaxis\": {\"title\": {\"text\": \"Users\"}}, \"yaxis\": {\"title\": {\"text\": \"No. of Unique Posts\"}}}, {\"showLink\": false, \"linkText\": \"Export to plot.ly\", \"plotlyServerURL\": \"https://plot.ly\"}); \n",
       "}\n",
       "});</script><script type=\"text/javascript\">window.addEventListener(\"resize\", function(){if (document.getElementById(\"175ce350-f8fe-4954-842f-f1037873b287\")) {window._Plotly.Plots.resize(document.getElementById(\"175ce350-f8fe-4954-842f-f1037873b287\"));};})</script>"
      ],
      "text/vnd.plotly.v1+html": [
       "<div id=\"175ce350-f8fe-4954-842f-f1037873b287\" style=\"height: 525px; width: 100%;\" class=\"plotly-graph-div\"></div><script type=\"text/javascript\">require([\"plotly\"], function(Plotly) { window.PLOTLYENV=window.PLOTLYENV || {};window.PLOTLYENV.BASE_URL=\"https://plot.ly\";\n",
       "if (document.getElementById(\"175ce350-f8fe-4954-842f-f1037873b287\")) {\n",
       "    Plotly.newPlot(\"175ce350-f8fe-4954-842f-f1037873b287\", [{\"marker\": {\"color\": [150, 136, 132, 97, 92, 86, 79, 78, 70, 47], \"colorscale\": \"Portland\"}, \"name\": \"Overall\", \"x\": [\"commonvanilla\", \"EviscerationNation\", \"mvea\", \"ImaginingDragon\", \"Chris_Isur_Dude\", \"GallowBoob\", \"dickfromaccounting\", \"icant-chooseone\", \"etymologynerd\", \"cyan1618\"], \"y\": [150, 136, 132, 97, 92, 86, 79, 78, 70, 47], \"type\": \"bar\", \"uid\": \"45b471df-60a5-42cc-be10-df625590b0a9\"}, {\"marker\": {\"color\": [17, 12, 9, 9, 9, 8, 7, 6, 6, 5], \"colorscale\": \"Portland\"}, \"name\": \"Position 1\", \"x\": [\"commonvanilla\", \"mvea\", \"GallowBoob\", \"EviscerationNation\", \"dickfromaccounting\", \"sirmakoto\", \"Raqped\", \"etymologynerd\", \"PoliticsModeratorBot\", \"ImaginingDragon\"], \"y\": [17, 12, 9, 9, 9, 8, 7, 6, 6, 5], \"type\": \"bar\", \"uid\": \"dcc86d1c-1ed7-459f-9f54-fa49706ba228\"}, {\"marker\": {\"color\": [12, 11, 11, 9, 8, 8, 7, 6, 6, 6], \"colorscale\": \"Portland\"}, \"name\": \"Position 2\", \"x\": [\"commonvanilla\", \"mvea\", \"ImaginingDragon\", \"gangbangkang\", \"dickfromaccounting\", \"Chris_Isur_Dude\", \"TooShiftyForYou\", \"PoliticsModeratorBot\", \"EviscerationNation\", \"imagepoem\"], \"y\": [12, 11, 11, 9, 8, 8, 7, 6, 6, 6], \"type\": \"bar\", \"uid\": \"ad9a483e-bc0a-4e48-a42f-4fad10ed5de3\"}, {\"marker\": {\"color\": [20, 14, 12, 10, 9, 8, 8, 8, 7, 7], \"colorscale\": \"Portland\"}, \"name\": \"Position 3\", \"x\": [\"commonvanilla\", \"mvea\", \"dickfromaccounting\", \"GallowBoob\", \"ImaginingDragon\", \"unknown_human\", \"maxwellhill\", \"EnoughPM2020\", \"etymologynerd\", \"TooShiftyForYou\"], \"y\": [20, 14, 12, 10, 9, 8, 8, 8, 7, 7], \"type\": \"bar\", \"uid\": \"87f8ce85-29b1-465e-99b8-f19c5478f80b\"}, {\"marker\": {\"color\": [21, 15, 14, 12, 11, 11, 10, 9, 8, 8], \"colorscale\": \"Portland\"}, \"name\": \"Position 4\", \"x\": [\"commonvanilla\", \"mvea\", \"Chris_Isur_Dude\", \"TooShiftyForYou\", \"EviscerationNation\", \"sirmakoto\", \"gangbangkang\", \"ImaginingDragon\", \"GallowBoob\", \"imagepoem\"], \"y\": [21, 15, 14, 12, 11, 11, 10, 9, 8, 8], \"type\": \"bar\", \"uid\": \"2a5e0554-a012-4b1c-bef2-f56a2841573e\"}, {\"marker\": {\"color\": [19, 17, 15, 12, 10, 9, 9, 9, 9, 8], \"colorscale\": \"Portland\"}, \"name\": \"Position 5\", \"x\": [\"commonvanilla\", \"mvea\", \"ImaginingDragon\", \"dickfromaccounting\", \"pp0787\", \"EviscerationNation\", \"sirmakoto\", \"gangbangkang\", \"etymologynerd\", \"icant-chooseone\"], \"y\": [19, 17, 15, 12, 10, 9, 9, 9, 9, 8], \"type\": \"bar\", \"uid\": \"86260aa7-0f51-403e-aea5-a06a967b6345\"}], {\"showlegend\": false, \"updatemenus\": [{\"active\": 0, \"buttons\": [{\"args\": [{\"visible\": [true, false, false, false, false, false]}, {\"title\": \"Users with Most Posts on Front Page\"}], \"label\": \"Overall\", \"method\": \"update\"}, {\"args\": [{\"visible\": [false, true, false, false, false, false]}, {\"title\": \"Users with Most Posts in Position 1\"}], \"label\": \"Position 1\", \"method\": \"update\"}, {\"args\": [{\"visible\": [false, false, true, false, false, false]}, {\"title\": \"Users with Most Posts in Position 2\"}], \"label\": \"Position 2\", \"method\": \"update\"}, {\"args\": [{\"visible\": [false, false, false, true, false, false]}, {\"title\": \"Users with Most Posts in Position 3\"}], \"label\": \"Position 3\", \"method\": \"update\"}, {\"args\": [{\"visible\": [false, false, false, false, true, false]}, {\"title\": \"Users with Most Posts in Position 4\"}], \"label\": \"Position 4\", \"method\": \"update\"}, {\"args\": [{\"visible\": [false, false, false, false, false, true]}, {\"title\": \"Users with Most Posts in Position 5\"}], \"label\": \"Position 5\", \"method\": \"update\"}]}], \"xaxis\": {\"title\": {\"text\": \"Users\"}}, \"yaxis\": {\"title\": {\"text\": \"No. of Unique Posts\"}}}, {\"showLink\": false, \"linkText\": \"Export to plot.ly\", \"plotlyServerURL\": \"https://plot.ly\"}); \n",
       "}\n",
       "});</script><script type=\"text/javascript\">window.addEventListener(\"resize\", function(){if (document.getElementById(\"175ce350-f8fe-4954-842f-f1037873b287\")) {window._Plotly.Plots.resize(document.getElementById(\"175ce350-f8fe-4954-842f-f1037873b287\"));};})</script>"
      ]
     },
     "metadata": {},
     "output_type": "display_data"
    }
   ],
   "source": [
    "# interactive graph to show top users by unique posts on the entire front page and in certain positions\n",
    "\n",
    "# top 10 users with the most posts across the entire front page\n",
    "top_overall = ordered.groupby(\"submitter\")[\"post_id\"].nunique().sort_values(ascending=False).reset_index()\n",
    "\n",
    "data = [go.Bar(\n",
    "    x = top_overall.submitter[:10].tolist(),\n",
    "    y = top_overall.post_id[:10].tolist(),\n",
    "    name = \"Overall\",\n",
    "    marker = {\n",
    "        \"color\": top_overall.post_id[:10].tolist(),\n",
    "        \"colorscale\": \"Portland\"\n",
    "    }\n",
    ")]\n",
    "           \n",
    "# append a figure for each of the top 5 positions\n",
    "for position in range(0,5):\n",
    "    # filter data\n",
    "    relevant_data = ordered[ordered.order == position].groupby(\n",
    "        \"submitter\")[\"post_id\"].nunique().sort_values(ascending=False).reset_index()\n",
    "    \n",
    "    # create and figure\n",
    "    data.append(\n",
    "        go.Bar(\n",
    "            x = relevant_data.submitter[:10].tolist(),\n",
    "            y = relevant_data.post_id[:10].tolist(),\n",
    "            name = f\"Position {position+1}\",\n",
    "            marker = {\n",
    "                \"color\": relevant_data.post_id[:10].tolist(),\n",
    "                \"colorscale\": \"Portland\"\n",
    "            }\n",
    "        )\n",
    "    )\n",
    "    \n",
    "updatemenus = [{\n",
    "    \"active\": 0,\n",
    "    \"buttons\": [{\n",
    "        \"label\": \"Overall\",\n",
    "        \"method\": \"update\",\n",
    "        \"args\" : [{\"visible\": [True, False, False, False, False, False]},\n",
    "                  {\"title\": \"Users with Most Posts on Front Page\"}]\n",
    "    },\n",
    "    {\n",
    "        \"label\": \"Position 1\",\n",
    "        \"method\": \"update\",\n",
    "        \"args\" : [{\"visible\": [False, True, False, False, False, False]},\n",
    "                  {\"title\": \"Users with Most Posts in Position 1\"}]\n",
    "    },\n",
    "    {\n",
    "        \"label\": \"Position 2\",\n",
    "        \"method\": \"update\",\n",
    "        \"args\" : [{\"visible\": [False, False, True, False, False, False]},\n",
    "                  {\"title\": \"Users with Most Posts in Position 2\"}]\n",
    "    },\n",
    "    {\n",
    "        \"label\": \"Position 3\",\n",
    "        \"method\": \"update\",\n",
    "        \"args\" : [{\"visible\": [False, False, False, True, False, False]},\n",
    "                  {\"title\": \"Users with Most Posts in Position 3\"}]\n",
    "    },\n",
    "    {\n",
    "        \"label\": \"Position 4\",\n",
    "        \"method\": \"update\",\n",
    "        \"args\" : [{\"visible\": [False, False, False, False, True, False]},\n",
    "                  {\"title\": \"Users with Most Posts in Position 4\"}]\n",
    "    },\n",
    "    {\n",
    "        \"label\": \"Position 5\",\n",
    "        \"method\": \"update\",\n",
    "        \"args\" : [{\"visible\": [False, False, False, False, False, True]},\n",
    "                  {\"title\": \"Users with Most Posts in Position 5\"}]\n",
    "    }\n",
    "    ]\n",
    "}]\n",
    "\n",
    "layout = go.Layout(\n",
    "    xaxis = {\"title\": \"Users\"},\n",
    "    yaxis = {\"title\": \"No. of Unique Posts\"},\n",
    "    showlegend = False,\n",
    "    updatemenus = updatemenus\n",
    ")\n",
    "\n",
    "figure = go.Figure(data=data, layout=layout)\n",
    "\n",
    "plotly.offline.iplot(figure, filename=\"users-most-posts\")"
   ]
  },
  {
   "cell_type": "markdown",
   "metadata": {},
   "source": [
    "### Top 10 Posts that Spent the Most Time on the Front Page"
   ]
  },
  {
   "cell_type": "code",
   "execution_count": 20,
   "metadata": {
    "scrolled": true
   },
   "outputs": [
    {
     "data": {
      "text/html": [
       "<div>\n",
       "<style scoped>\n",
       "    .dataframe tbody tr th:only-of-type {\n",
       "        vertical-align: middle;\n",
       "    }\n",
       "\n",
       "    .dataframe tbody tr th {\n",
       "        vertical-align: top;\n",
       "    }\n",
       "\n",
       "    .dataframe thead th {\n",
       "        text-align: right;\n",
       "    }\n",
       "</style>\n",
       "<table border=\"1\" class=\"dataframe\">\n",
       "  <thead>\n",
       "    <tr style=\"text-align: right;\">\n",
       "      <th></th>\n",
       "      <th>timestamp</th>\n",
       "      <th>headline</th>\n",
       "      <th>subreddit</th>\n",
       "      <th>comments</th>\n",
       "    </tr>\n",
       "  </thead>\n",
       "  <tbody>\n",
       "    <tr>\n",
       "      <th>0</th>\n",
       "      <td>2018-10-19 16:25:15+00:00</td>\n",
       "      <td>What's up with people sayibg to not watch or stop watching CinemaSins?</td>\n",
       "      <td>r/OutOfTheLoop</td>\n",
       "      <td>1255 comments</td>\n",
       "    </tr>\n",
       "    <tr>\n",
       "      <th>1</th>\n",
       "      <td>2018-11-05 12:02:11+00:00</td>\n",
       "      <td>AITA for trolling an elderly person who kept calling the wrong number?</td>\n",
       "      <td>r/AmItheAsshole</td>\n",
       "      <td>716 comments</td>\n",
       "    </tr>\n",
       "    <tr>\n",
       "      <th>2</th>\n",
       "      <td>2018-11-06 12:46:41+00:00</td>\n",
       "      <td>I. DID. NOT. ACCEPT. THE. JOB. Now please let me enjoy my holiday</td>\n",
       "      <td>r/IDontWorkHereLady</td>\n",
       "      <td>714 comments</td>\n",
       "    </tr>\n",
       "    <tr>\n",
       "      <th>3</th>\n",
       "      <td>2018-11-06 13:33:46+00:00</td>\n",
       "      <td>It’s Election Day 2018 and We’ve Compiled Some Resources to Help You Vote</td>\n",
       "      <td>r/announcements</td>\n",
       "      <td>5484 comments</td>\n",
       "    </tr>\n",
       "    <tr>\n",
       "      <th>4</th>\n",
       "      <td>2018-11-06 06:04:27+00:00</td>\n",
       "      <td>Red Dead Redemption 2 allows you to kill KKK members without penalty. Some on /r/gaming wonder if Rockstar's gone too far with the murdering</td>\n",
       "      <td>r/SubredditDrama</td>\n",
       "      <td>2522 comments</td>\n",
       "    </tr>\n",
       "    <tr>\n",
       "      <th>5</th>\n",
       "      <td>2018-11-06 12:45:02+00:00</td>\n",
       "      <td>Can I get in trouble for giving my underage wife alcohol?</td>\n",
       "      <td>r/legaladvice</td>\n",
       "      <td>84 comments</td>\n",
       "    </tr>\n",
       "    <tr>\n",
       "      <th>6</th>\n",
       "      <td>2018-11-13 14:15:33+00:00</td>\n",
       "      <td>In ww1 when the soldiers on the battlefields had to stop fighting mid-battle because the war ended did they just throw down there weapons? Or did they awkwardly just walk back to their separate camps?</td>\n",
       "      <td>r/history</td>\n",
       "      <td>1048 comments</td>\n",
       "    </tr>\n",
       "    <tr>\n",
       "      <th>7</th>\n",
       "      <td>2018-12-04 06:05:12+00:00</td>\n",
       "      <td>Update on LAOP who was violently raped 6 yrs ago and found out her assailant was trying to become an officer. Turns out the man isn't going to be an officer but LAOP still went through with reporting it.</td>\n",
       "      <td>r/bestoflegaladvice</td>\n",
       "      <td>247 comments</td>\n",
       "    </tr>\n",
       "    <tr>\n",
       "      <th>8</th>\n",
       "      <td>2018-12-17 13:16:39+00:00</td>\n",
       "      <td>MRW I spend most of my days doing my incompetent boss's job and then I find out his Christmas bonus was larger than my my yearly income</td>\n",
       "      <td>r/reactiongifs</td>\n",
       "      <td>1724 comments</td>\n",
       "    </tr>\n",
       "    <tr>\n",
       "      <th>9</th>\n",
       "      <td>2018-12-27 14:24:06+00:00</td>\n",
       "      <td>Macaulay Culkin to legally change his middle name to Macaulay Culkin</td>\n",
       "      <td>r/nottheonion</td>\n",
       "      <td>2469 comments</td>\n",
       "    </tr>\n",
       "  </tbody>\n",
       "</table>\n",
       "</div>"
      ],
      "text/plain": [
       "                  timestamp  \\\n",
       "0 2018-10-19 16:25:15+00:00   \n",
       "1 2018-11-05 12:02:11+00:00   \n",
       "2 2018-11-06 12:46:41+00:00   \n",
       "3 2018-11-06 13:33:46+00:00   \n",
       "4 2018-11-06 06:04:27+00:00   \n",
       "5 2018-11-06 12:45:02+00:00   \n",
       "6 2018-11-13 14:15:33+00:00   \n",
       "7 2018-12-04 06:05:12+00:00   \n",
       "8 2018-12-17 13:16:39+00:00   \n",
       "9 2018-12-27 14:24:06+00:00   \n",
       "\n",
       "                                                                                                                                                                                                      headline  \\\n",
       "0  What's up with people sayibg to not watch or stop watching CinemaSins?                                                                                                                                        \n",
       "1  AITA for trolling an elderly person who kept calling the wrong number?                                                                                                                                        \n",
       "2  I. DID. NOT. ACCEPT. THE. JOB. Now please let me enjoy my holiday                                                                                                                                             \n",
       "3  It’s Election Day 2018 and We’ve Compiled Some Resources to Help You Vote                                                                                                                                     \n",
       "4  Red Dead Redemption 2 allows you to kill KKK members without penalty. Some on /r/gaming wonder if Rockstar's gone too far with the murdering                                                                  \n",
       "5  Can I get in trouble for giving my underage wife alcohol?                                                                                                                                                     \n",
       "6  In ww1 when the soldiers on the battlefields had to stop fighting mid-battle because the war ended did they just throw down there weapons? Or did they awkwardly just walk back to their separate camps?      \n",
       "7  Update on LAOP who was violently raped 6 yrs ago and found out her assailant was trying to become an officer. Turns out the man isn't going to be an officer but LAOP still went through with reporting it.   \n",
       "8  MRW I spend most of my days doing my incompetent boss's job and then I find out his Christmas bonus was larger than my my yearly income                                                                       \n",
       "9  Macaulay Culkin to legally change his middle name to Macaulay Culkin                                                                                                                                          \n",
       "\n",
       "             subreddit       comments  \n",
       "0  r/OutOfTheLoop       1255 comments  \n",
       "1  r/AmItheAsshole      716 comments   \n",
       "2  r/IDontWorkHereLady  714 comments   \n",
       "3  r/announcements      5484 comments  \n",
       "4  r/SubredditDrama     2522 comments  \n",
       "5  r/legaladvice        84 comments    \n",
       "6  r/history            1048 comments  \n",
       "7  r/bestoflegaladvice  247 comments   \n",
       "8  r/reactiongifs       1724 comments  \n",
       "9  r/nottheonion        2469 comments  "
      ]
     },
     "execution_count": 20,
     "metadata": {},
     "output_type": "execute_result"
    }
   ],
   "source": [
    "# most time == most number of records in the dataset since the same post would've been\n",
    "# captured repeatedly every hour\n",
    "\n",
    "# get the top 10 unique posts with the most records in the dataset\n",
    "top10_posts = ordered.post_id.value_counts().iloc[:10].index.tolist()\n",
    "\n",
    "# show relevant detailed information of top 10 posts (including the last captured comment count)\n",
    "top10_posts_detailed = ordered[ordered.post_id.isin(\n",
    "    top10_posts)].sort_values(\"batch_time\").drop_duplicates(\"post_id\", keep=\"last\")\n",
    "\n",
    "# adjust pandas column width\n",
    "pd.set_option('display.max_colwidth', -1)\n",
    "\n",
    "# display as table because sometimes it's just easier to read\n",
    "top10_posts_detailed[[\"timestamp\", \"headline\", \"subreddit\", \"comments\"]].reset_index(drop=True)"
   ]
  },
  {
   "cell_type": "markdown",
   "metadata": {},
   "source": [
    "### Time (Hours) a Post Spends in Each Position"
   ]
  },
  {
   "cell_type": "code",
   "execution_count": 21,
   "metadata": {},
   "outputs": [],
   "source": [
    "# re-adjust pandas column width\n",
    "pd.set_option('display.max_colwidth', 50)"
   ]
  },
  {
   "cell_type": "code",
   "execution_count": 22,
   "metadata": {},
   "outputs": [
    {
     "data": {
      "text/plain": [
       "True"
      ]
     },
     "execution_count": 22,
     "metadata": {},
     "output_type": "execute_result"
    }
   ],
   "source": [
    "# this would involve calculating the number of records for each position for each unique post\n",
    "pos_hours = ordered.pivot_table(\n",
    "    values=\"extract_time\",\n",
    "    index=[\"post_id\", \"order\"],\n",
    "    aggfunc=\"count\"\n",
    ").reset_index().sort_values(\"extract_time\", ascending=False).rename(columns={\"extract_time\": \"hours_in_pos\"})\n",
    "\n",
    "# check if the total of hours in pos matches the total number of records in the dataset\n",
    "pos_hours.hours_in_pos.sum() == len(ordered)"
   ]
  },
  {
   "cell_type": "code",
   "execution_count": 23,
   "metadata": {},
   "outputs": [],
   "source": [
    "# assign the subreddit to pos_hours\n",
    "pos_hours = pos_hours.merge(ordered[[\"post_id\", \"subreddit\"]].drop_duplicates(), how=\"inner\", on=\"post_id\")\n",
    "\n",
    "# remove all posts with only 1 record (observed to be only in one position for one hour)\n",
    "post_counts = pos_hours.post_id.value_counts().reset_index().rename(\n",
    "    columns={\"post_id\": \"num_of_posts\", \"index\": \"post_id\"})\n",
    "to_remove = post_counts[post_counts.num_of_posts == 1].post_id.tolist()\n",
    "pos_hours = pos_hours[~pos_hours.post_id.isin(to_remove)]"
   ]
  },
  {
   "cell_type": "code",
   "execution_count": null,
   "metadata": {},
   "outputs": [],
   "source": [
    "# to be continued"
   ]
  },
  {
   "cell_type": "markdown",
   "metadata": {},
   "source": [
    "### Time (Hours) Taken to Reach Front Page"
   ]
  },
  {
   "cell_type": "code",
   "execution_count": null,
   "metadata": {},
   "outputs": [],
   "source": [
    "# to-do"
   ]
  },
  {
   "cell_type": "markdown",
   "metadata": {},
   "source": [
    "### Best Time to Post to Reach a Particular Spot on the Front Page"
   ]
  },
  {
   "cell_type": "code",
   "execution_count": 67,
   "metadata": {},
   "outputs": [
    {
     "data": {
      "text/html": [
       "<div>\n",
       "<style scoped>\n",
       "    .dataframe tbody tr th:only-of-type {\n",
       "        vertical-align: middle;\n",
       "    }\n",
       "\n",
       "    .dataframe tbody tr th {\n",
       "        vertical-align: top;\n",
       "    }\n",
       "\n",
       "    .dataframe thead th {\n",
       "        text-align: right;\n",
       "    }\n",
       "</style>\n",
       "<table border=\"1\" class=\"dataframe\">\n",
       "  <thead>\n",
       "    <tr style=\"text-align: right;\">\n",
       "      <th></th>\n",
       "      <th>post_hour</th>\n",
       "      <th>order</th>\n",
       "      <th>post_id</th>\n",
       "    </tr>\n",
       "  </thead>\n",
       "  <tbody>\n",
       "    <tr>\n",
       "      <th>0</th>\n",
       "      <td>0</td>\n",
       "      <td>0</td>\n",
       "      <td>201</td>\n",
       "    </tr>\n",
       "    <tr>\n",
       "      <th>1</th>\n",
       "      <td>0</td>\n",
       "      <td>1</td>\n",
       "      <td>182</td>\n",
       "    </tr>\n",
       "    <tr>\n",
       "      <th>2</th>\n",
       "      <td>0</td>\n",
       "      <td>2</td>\n",
       "      <td>174</td>\n",
       "    </tr>\n",
       "    <tr>\n",
       "      <th>3</th>\n",
       "      <td>0</td>\n",
       "      <td>3</td>\n",
       "      <td>174</td>\n",
       "    </tr>\n",
       "    <tr>\n",
       "      <th>4</th>\n",
       "      <td>0</td>\n",
       "      <td>4</td>\n",
       "      <td>165</td>\n",
       "    </tr>\n",
       "    <tr>\n",
       "      <th>5</th>\n",
       "      <td>0</td>\n",
       "      <td>5</td>\n",
       "      <td>154</td>\n",
       "    </tr>\n",
       "    <tr>\n",
       "      <th>6</th>\n",
       "      <td>0</td>\n",
       "      <td>6</td>\n",
       "      <td>156</td>\n",
       "    </tr>\n",
       "    <tr>\n",
       "      <th>7</th>\n",
       "      <td>0</td>\n",
       "      <td>7</td>\n",
       "      <td>166</td>\n",
       "    </tr>\n",
       "    <tr>\n",
       "      <th>8</th>\n",
       "      <td>0</td>\n",
       "      <td>8</td>\n",
       "      <td>172</td>\n",
       "    </tr>\n",
       "    <tr>\n",
       "      <th>9</th>\n",
       "      <td>0</td>\n",
       "      <td>9</td>\n",
       "      <td>153</td>\n",
       "    </tr>\n",
       "    <tr>\n",
       "      <th>10</th>\n",
       "      <td>0</td>\n",
       "      <td>10</td>\n",
       "      <td>182</td>\n",
       "    </tr>\n",
       "    <tr>\n",
       "      <th>11</th>\n",
       "      <td>0</td>\n",
       "      <td>11</td>\n",
       "      <td>162</td>\n",
       "    </tr>\n",
       "    <tr>\n",
       "      <th>12</th>\n",
       "      <td>0</td>\n",
       "      <td>12</td>\n",
       "      <td>133</td>\n",
       "    </tr>\n",
       "    <tr>\n",
       "      <th>13</th>\n",
       "      <td>0</td>\n",
       "      <td>13</td>\n",
       "      <td>136</td>\n",
       "    </tr>\n",
       "    <tr>\n",
       "      <th>14</th>\n",
       "      <td>0</td>\n",
       "      <td>14</td>\n",
       "      <td>166</td>\n",
       "    </tr>\n",
       "    <tr>\n",
       "      <th>15</th>\n",
       "      <td>0</td>\n",
       "      <td>15</td>\n",
       "      <td>167</td>\n",
       "    </tr>\n",
       "    <tr>\n",
       "      <th>16</th>\n",
       "      <td>0</td>\n",
       "      <td>16</td>\n",
       "      <td>158</td>\n",
       "    </tr>\n",
       "    <tr>\n",
       "      <th>17</th>\n",
       "      <td>0</td>\n",
       "      <td>17</td>\n",
       "      <td>158</td>\n",
       "    </tr>\n",
       "    <tr>\n",
       "      <th>18</th>\n",
       "      <td>0</td>\n",
       "      <td>18</td>\n",
       "      <td>138</td>\n",
       "    </tr>\n",
       "    <tr>\n",
       "      <th>19</th>\n",
       "      <td>0</td>\n",
       "      <td>19</td>\n",
       "      <td>158</td>\n",
       "    </tr>\n",
       "    <tr>\n",
       "      <th>20</th>\n",
       "      <td>0</td>\n",
       "      <td>20</td>\n",
       "      <td>153</td>\n",
       "    </tr>\n",
       "    <tr>\n",
       "      <th>21</th>\n",
       "      <td>0</td>\n",
       "      <td>21</td>\n",
       "      <td>147</td>\n",
       "    </tr>\n",
       "    <tr>\n",
       "      <th>22</th>\n",
       "      <td>0</td>\n",
       "      <td>22</td>\n",
       "      <td>143</td>\n",
       "    </tr>\n",
       "    <tr>\n",
       "      <th>23</th>\n",
       "      <td>0</td>\n",
       "      <td>23</td>\n",
       "      <td>189</td>\n",
       "    </tr>\n",
       "    <tr>\n",
       "      <th>24</th>\n",
       "      <td>0</td>\n",
       "      <td>24</td>\n",
       "      <td>138</td>\n",
       "    </tr>\n",
       "    <tr>\n",
       "      <th>25</th>\n",
       "      <td>1</td>\n",
       "      <td>0</td>\n",
       "      <td>176</td>\n",
       "    </tr>\n",
       "    <tr>\n",
       "      <th>26</th>\n",
       "      <td>1</td>\n",
       "      <td>1</td>\n",
       "      <td>154</td>\n",
       "    </tr>\n",
       "    <tr>\n",
       "      <th>27</th>\n",
       "      <td>1</td>\n",
       "      <td>2</td>\n",
       "      <td>153</td>\n",
       "    </tr>\n",
       "    <tr>\n",
       "      <th>28</th>\n",
       "      <td>1</td>\n",
       "      <td>3</td>\n",
       "      <td>160</td>\n",
       "    </tr>\n",
       "    <tr>\n",
       "      <th>29</th>\n",
       "      <td>1</td>\n",
       "      <td>4</td>\n",
       "      <td>131</td>\n",
       "    </tr>\n",
       "    <tr>\n",
       "      <th>...</th>\n",
       "      <td>...</td>\n",
       "      <td>...</td>\n",
       "      <td>...</td>\n",
       "    </tr>\n",
       "    <tr>\n",
       "      <th>570</th>\n",
       "      <td>22</td>\n",
       "      <td>20</td>\n",
       "      <td>159</td>\n",
       "    </tr>\n",
       "    <tr>\n",
       "      <th>571</th>\n",
       "      <td>22</td>\n",
       "      <td>21</td>\n",
       "      <td>161</td>\n",
       "    </tr>\n",
       "    <tr>\n",
       "      <th>572</th>\n",
       "      <td>22</td>\n",
       "      <td>22</td>\n",
       "      <td>149</td>\n",
       "    </tr>\n",
       "    <tr>\n",
       "      <th>573</th>\n",
       "      <td>22</td>\n",
       "      <td>23</td>\n",
       "      <td>164</td>\n",
       "    </tr>\n",
       "    <tr>\n",
       "      <th>574</th>\n",
       "      <td>22</td>\n",
       "      <td>24</td>\n",
       "      <td>144</td>\n",
       "    </tr>\n",
       "    <tr>\n",
       "      <th>575</th>\n",
       "      <td>23</td>\n",
       "      <td>0</td>\n",
       "      <td>126</td>\n",
       "    </tr>\n",
       "    <tr>\n",
       "      <th>576</th>\n",
       "      <td>23</td>\n",
       "      <td>1</td>\n",
       "      <td>154</td>\n",
       "    </tr>\n",
       "    <tr>\n",
       "      <th>577</th>\n",
       "      <td>23</td>\n",
       "      <td>2</td>\n",
       "      <td>181</td>\n",
       "    </tr>\n",
       "    <tr>\n",
       "      <th>578</th>\n",
       "      <td>23</td>\n",
       "      <td>3</td>\n",
       "      <td>151</td>\n",
       "    </tr>\n",
       "    <tr>\n",
       "      <th>579</th>\n",
       "      <td>23</td>\n",
       "      <td>4</td>\n",
       "      <td>172</td>\n",
       "    </tr>\n",
       "    <tr>\n",
       "      <th>580</th>\n",
       "      <td>23</td>\n",
       "      <td>5</td>\n",
       "      <td>165</td>\n",
       "    </tr>\n",
       "    <tr>\n",
       "      <th>581</th>\n",
       "      <td>23</td>\n",
       "      <td>6</td>\n",
       "      <td>157</td>\n",
       "    </tr>\n",
       "    <tr>\n",
       "      <th>582</th>\n",
       "      <td>23</td>\n",
       "      <td>7</td>\n",
       "      <td>143</td>\n",
       "    </tr>\n",
       "    <tr>\n",
       "      <th>583</th>\n",
       "      <td>23</td>\n",
       "      <td>8</td>\n",
       "      <td>148</td>\n",
       "    </tr>\n",
       "    <tr>\n",
       "      <th>584</th>\n",
       "      <td>23</td>\n",
       "      <td>9</td>\n",
       "      <td>152</td>\n",
       "    </tr>\n",
       "    <tr>\n",
       "      <th>585</th>\n",
       "      <td>23</td>\n",
       "      <td>10</td>\n",
       "      <td>153</td>\n",
       "    </tr>\n",
       "    <tr>\n",
       "      <th>586</th>\n",
       "      <td>23</td>\n",
       "      <td>11</td>\n",
       "      <td>153</td>\n",
       "    </tr>\n",
       "    <tr>\n",
       "      <th>587</th>\n",
       "      <td>23</td>\n",
       "      <td>12</td>\n",
       "      <td>149</td>\n",
       "    </tr>\n",
       "    <tr>\n",
       "      <th>588</th>\n",
       "      <td>23</td>\n",
       "      <td>13</td>\n",
       "      <td>151</td>\n",
       "    </tr>\n",
       "    <tr>\n",
       "      <th>589</th>\n",
       "      <td>23</td>\n",
       "      <td>14</td>\n",
       "      <td>147</td>\n",
       "    </tr>\n",
       "    <tr>\n",
       "      <th>590</th>\n",
       "      <td>23</td>\n",
       "      <td>15</td>\n",
       "      <td>143</td>\n",
       "    </tr>\n",
       "    <tr>\n",
       "      <th>591</th>\n",
       "      <td>23</td>\n",
       "      <td>16</td>\n",
       "      <td>142</td>\n",
       "    </tr>\n",
       "    <tr>\n",
       "      <th>592</th>\n",
       "      <td>23</td>\n",
       "      <td>17</td>\n",
       "      <td>159</td>\n",
       "    </tr>\n",
       "    <tr>\n",
       "      <th>593</th>\n",
       "      <td>23</td>\n",
       "      <td>18</td>\n",
       "      <td>156</td>\n",
       "    </tr>\n",
       "    <tr>\n",
       "      <th>594</th>\n",
       "      <td>23</td>\n",
       "      <td>19</td>\n",
       "      <td>185</td>\n",
       "    </tr>\n",
       "    <tr>\n",
       "      <th>595</th>\n",
       "      <td>23</td>\n",
       "      <td>20</td>\n",
       "      <td>166</td>\n",
       "    </tr>\n",
       "    <tr>\n",
       "      <th>596</th>\n",
       "      <td>23</td>\n",
       "      <td>21</td>\n",
       "      <td>152</td>\n",
       "    </tr>\n",
       "    <tr>\n",
       "      <th>597</th>\n",
       "      <td>23</td>\n",
       "      <td>22</td>\n",
       "      <td>139</td>\n",
       "    </tr>\n",
       "    <tr>\n",
       "      <th>598</th>\n",
       "      <td>23</td>\n",
       "      <td>23</td>\n",
       "      <td>157</td>\n",
       "    </tr>\n",
       "    <tr>\n",
       "      <th>599</th>\n",
       "      <td>23</td>\n",
       "      <td>24</td>\n",
       "      <td>149</td>\n",
       "    </tr>\n",
       "  </tbody>\n",
       "</table>\n",
       "<p>600 rows × 3 columns</p>\n",
       "</div>"
      ],
      "text/plain": [
       "     post_hour  order  post_id\n",
       "0            0      0      201\n",
       "1            0      1      182\n",
       "2            0      2      174\n",
       "3            0      3      174\n",
       "4            0      4      165\n",
       "5            0      5      154\n",
       "6            0      6      156\n",
       "7            0      7      166\n",
       "8            0      8      172\n",
       "9            0      9      153\n",
       "10           0     10      182\n",
       "11           0     11      162\n",
       "12           0     12      133\n",
       "13           0     13      136\n",
       "14           0     14      166\n",
       "15           0     15      167\n",
       "16           0     16      158\n",
       "17           0     17      158\n",
       "18           0     18      138\n",
       "19           0     19      158\n",
       "20           0     20      153\n",
       "21           0     21      147\n",
       "22           0     22      143\n",
       "23           0     23      189\n",
       "24           0     24      138\n",
       "25           1      0      176\n",
       "26           1      1      154\n",
       "27           1      2      153\n",
       "28           1      3      160\n",
       "29           1      4      131\n",
       "..         ...    ...      ...\n",
       "570         22     20      159\n",
       "571         22     21      161\n",
       "572         22     22      149\n",
       "573         22     23      164\n",
       "574         22     24      144\n",
       "575         23      0      126\n",
       "576         23      1      154\n",
       "577         23      2      181\n",
       "578         23      3      151\n",
       "579         23      4      172\n",
       "580         23      5      165\n",
       "581         23      6      157\n",
       "582         23      7      143\n",
       "583         23      8      148\n",
       "584         23      9      152\n",
       "585         23     10      153\n",
       "586         23     11      153\n",
       "587         23     12      149\n",
       "588         23     13      151\n",
       "589         23     14      147\n",
       "590         23     15      143\n",
       "591         23     16      142\n",
       "592         23     17      159\n",
       "593         23     18      156\n",
       "594         23     19      185\n",
       "595         23     20      166\n",
       "596         23     21      152\n",
       "597         23     22      139\n",
       "598         23     23      157\n",
       "599         23     24      149\n",
       "\n",
       "[600 rows x 3 columns]"
      ]
     },
     "execution_count": 67,
     "metadata": {},
     "output_type": "execute_result"
    }
   ],
   "source": [
    "# assign hour column\n",
    "ordered = ordered.assign(post_hour = ordered.timestamp.dt.hour)\n",
    "\n",
    "# get number of posts in a particular order posted at a particular hour\n",
    "by_hour_and_order = ordered.groupby([\"post_hour\", \"order\"])[\"post_id\"].count().reset_index()\n",
    "by_hour_and_order = by_hour_and_order.rename(columns={\"post_id\": \"count\"})\n",
    "\n",
    "# create heatmap"
   ]
  },
  {
   "cell_type": "code",
   "execution_count": null,
   "metadata": {},
   "outputs": [],
   "source": []
  }
 ],
 "metadata": {
  "kernelspec": {
   "display_name": "Python 3",
   "language": "python",
   "name": "python3"
  },
  "language_info": {
   "codemirror_mode": {
    "name": "ipython",
    "version": 3
   },
   "file_extension": ".py",
   "mimetype": "text/x-python",
   "name": "python",
   "nbconvert_exporter": "python",
   "pygments_lexer": "ipython3",
   "version": "3.7.3"
  }
 },
 "nbformat": 4,
 "nbformat_minor": 2
}
